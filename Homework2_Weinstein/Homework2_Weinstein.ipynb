{
  "nbformat": 4,
  "nbformat_minor": 0,
  "metadata": {
    "colab": {
      "provenance": [],
      "authorship_tag": "ABX9TyONXsgfqs0aSuPsp4XOZboC",
      "include_colab_link": true
    },
    "kernelspec": {
      "name": "python3",
      "display_name": "Python 3"
    },
    "language_info": {
      "name": "python"
    }
  },
  "cells": [
    {
      "cell_type": "markdown",
      "metadata": {
        "id": "view-in-github",
        "colab_type": "text"
      },
      "source": [
        "<a href=\"https://colab.research.google.com/github/zoe-weinstein/FWECOLOGY/blob/main/Homework2_Weinstein.ipynb\" target=\"_parent\"><img src=\"https://colab.research.google.com/assets/colab-badge.svg\" alt=\"Open In Colab\"/></a>"
      ]
    },
    {
      "cell_type": "markdown",
      "source": [
        "# Assignment Details"
      ],
      "metadata": {
        "id": "FCPULBMXrs-X"
      }
    },
    {
      "cell_type": "code",
      "source": [
        "import random\n",
        "random.seed()"
      ],
      "metadata": {
        "id": "1m4jvcXkszIX"
      },
      "execution_count": null,
      "outputs": []
    },
    {
      "cell_type": "markdown",
      "source": [
        "### 1. Create a 50-Element List:\n",
        "- Generate a list that contains 50 elements.\n",
        "- Each element should be a random number between 1 and 100.\n",
        "- Note: You are allowed to use Python’s random module to generate these numbers."
      ],
      "metadata": {
        "id": "naNcheutr0FJ"
      }
    },
    {
      "cell_type": "code",
      "source": [
        "arr = random.sample(range(1, 101), 50)\n",
        "arr"
      ],
      "metadata": {
        "colab": {
          "base_uri": "https://localhost:8080/"
        },
        "id": "yehYuvnIsSrx",
        "outputId": "e991a9f0-44e6-4b55-e701-aa1f507a43b9"
      },
      "execution_count": null,
      "outputs": [
        {
          "output_type": "execute_result",
          "data": {
            "text/plain": [
              "[77,\n",
              " 91,\n",
              " 10,\n",
              " 27,\n",
              " 17,\n",
              " 23,\n",
              " 89,\n",
              " 46,\n",
              " 82,\n",
              " 19,\n",
              " 59,\n",
              " 5,\n",
              " 58,\n",
              " 81,\n",
              " 16,\n",
              " 98,\n",
              " 22,\n",
              " 94,\n",
              " 39,\n",
              " 53,\n",
              " 65,\n",
              " 7,\n",
              " 100,\n",
              " 48,\n",
              " 54,\n",
              " 25,\n",
              " 13,\n",
              " 72,\n",
              " 47,\n",
              " 20,\n",
              " 92,\n",
              " 42,\n",
              " 79,\n",
              " 43,\n",
              " 78,\n",
              " 38,\n",
              " 61,\n",
              " 62,\n",
              " 56,\n",
              " 63,\n",
              " 86,\n",
              " 8,\n",
              " 93,\n",
              " 75,\n",
              " 99,\n",
              " 96,\n",
              " 90,\n",
              " 67,\n",
              " 50,\n",
              " 51]"
            ]
          },
          "metadata": {},
          "execution_count": 27
        }
      ]
    },
    {
      "cell_type": "markdown",
      "source": [
        "### 2. Implement Sorting Algorithms:\n",
        "- Bubble Sort: Write a Python function that uses the bubble sort algorithm to sort the list.\n",
        "- Insertion Sort: Write a Python function that uses the insertion sort algorithm to sort the list.\n",
        "- Important: Do not use any built-in Python functions for sorting (e.g., .sort(), sorted(), etc.). The goal is to implement the algorithm manually.\n"
      ],
      "metadata": {
        "id": "yMKyAuk1r7Go"
      }
    },
    {
      "cell_type": "code",
      "source": [
        "def bubble_sort(arr):\n",
        "\n",
        "    # Outer loop to iterate through the list n times\n",
        "    for n in range(len(arr) - 1, 0, -1):\n",
        "\n",
        "        # Initialize swapped to track if any swaps occur\n",
        "        swapped = False\n",
        "\n",
        "        # Inner loop to compare adjacent elements\n",
        "        for i in range(n):\n",
        "            if arr[i] > arr[i + 1]:\n",
        "\n",
        "                # Swap elements if they are in the wrong order\n",
        "                arr[i], arr[i + 1] = arr[i + 1], arr[i]\n",
        "\n",
        "                # Mark that a swap has occurred\n",
        "                swapped = True\n",
        "\n",
        "        # If no swaps occurred, the list is already sorted\n",
        "        if not swapped:\n",
        "            break\n",
        "    return arr\n",
        "\n",
        "\n",
        "\n",
        "\n",
        "def insertion_sort(arr):\n",
        "  # Outer loop to iterate thru whole list\n",
        "    for i in range(1, len(arr)):\n",
        "\n",
        "      # Initilize current number\n",
        "        key = arr[i]\n",
        "\n",
        "      # Initialize number before\n",
        "        j = i - 1\n",
        "\n",
        "      # If previous number is zero or greater and the current number is less than previous\n",
        "        while j >= 0 and key < arr[j]:\n",
        "\n",
        "           # Make placement of current nummber (j+1 is i) equal to the previous number\n",
        "            arr[j + 1] = arr[j]\n",
        "\n",
        "            # substract 1 from j\n",
        "            j -= 1\n",
        "        # make j+1 now the current number\n",
        "        arr[j + 1] = key\n",
        "    return arr"
      ],
      "metadata": {
        "colab": {
          "base_uri": "https://localhost:8080/"
        },
        "id": "xs_63D7-sTXr",
        "outputId": "4cf13934-056c-48ba-8ef2-41e26481908e"
      },
      "execution_count": null,
      "outputs": [
        {
          "output_type": "stream",
          "name": "stdout",
          "text": [
            "Unsorted list is:\n",
            "[39, 12, 18, 85, 72, 10, 2, 18]\n",
            "Sorted list is:\n",
            "[2, 10, 12, 18, 18, 39, 72, 85]\n"
          ]
        }
      ]
    },
    {
      "cell_type": "markdown",
      "source": [
        "### 3. Testing Your Code:\n",
        "\n",
        "- Use the 50-element list you created to test your sorting functions.\n",
        "- Print the list before and after sorting to clearly show that your function works correctly.\n"
      ],
      "metadata": {
        "id": "qld7-C5vr-uM"
      }
    },
    {
      "cell_type": "code",
      "source": [
        "L = random.sample(range(1, 101), 50)\n",
        "print(\"Unsorted array:\", L)\n",
        "sorted_arr = insertion_sort(L)\n",
        "print(\"Sorted array:\", sorted_arr)"
      ],
      "metadata": {
        "colab": {
          "base_uri": "https://localhost:8080/"
        },
        "id": "O0mMPCPqrxTN",
        "outputId": "7d60fd9e-7e6a-4678-fccc-b5d74ec212de"
      },
      "execution_count": null,
      "outputs": [
        {
          "output_type": "stream",
          "name": "stdout",
          "text": [
            "Unsorted array: [61, 12, 88, 30, 15, 7, 24, 11, 66, 100, 46, 6, 10, 8, 70, 58, 71, 99, 62, 57, 55, 26, 42, 32, 43, 40, 80, 54, 29, 14, 78, 38, 27, 97, 5, 83, 74, 73, 21, 89, 3, 18, 48, 41, 75, 20, 52, 72, 50, 39]\n",
            "Sorted array: [3, 5, 6, 7, 8, 10, 11, 12, 14, 15, 18, 20, 21, 24, 26, 27, 29, 30, 32, 38, 39, 40, 41, 42, 43, 46, 48, 50, 52, 54, 55, 57, 58, 61, 62, 66, 70, 71, 72, 73, 74, 75, 78, 80, 83, 88, 89, 97, 99, 100]\n"
          ]
        }
      ]
    },
    {
      "cell_type": "code",
      "source": [
        "L = random.sample(range(1, 101), 50)\n",
        "print(\"Unsorted array:\", L)\n",
        "sorted_arr = bubble_sort(L)\n",
        "print(\"Sorted array:\", L)"
      ],
      "metadata": {
        "colab": {
          "base_uri": "https://localhost:8080/"
        },
        "id": "xKFKB2bRuHsA",
        "outputId": "e95f41b9-44e9-44ff-a6c0-ad5f5a81fa44"
      },
      "execution_count": null,
      "outputs": [
        {
          "output_type": "stream",
          "name": "stdout",
          "text": [
            "Unsorted array: [43, 14, 89, 61, 63, 37, 7, 99, 42, 44, 71, 54, 21, 36, 35, 56, 92, 90, 23, 17, 51, 88, 87, 2, 40, 38, 97, 84, 95, 70, 57, 22, 29, 15, 31, 96, 12, 58, 74, 34, 16, 77, 94, 100, 30, 76, 11, 6, 83, 59]\n",
            "Sorted array: [2, 6, 7, 11, 12, 14, 15, 16, 17, 21, 22, 23, 29, 30, 31, 34, 35, 36, 37, 38, 40, 42, 43, 44, 51, 54, 56, 57, 58, 59, 61, 63, 70, 71, 74, 76, 77, 83, 84, 87, 88, 89, 90, 92, 94, 95, 96, 97, 99, 100]\n"
          ]
        }
      ]
    },
    {
      "cell_type": "markdown",
      "source": [
        "### 4. Code Comments and Readability:\n",
        "\n",
        "- Your code should include clear comments explaining your logic and the key steps of your algorithms"
      ],
      "metadata": {
        "id": "8DQl29OQsOAL"
      }
    },
    {
      "cell_type": "code",
      "source": [],
      "metadata": {
        "id": "ISymWiSGsT-v"
      },
      "execution_count": null,
      "outputs": []
    }
  ]
}