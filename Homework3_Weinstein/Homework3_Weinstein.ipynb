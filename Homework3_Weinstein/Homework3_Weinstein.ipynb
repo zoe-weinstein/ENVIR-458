{
 "cells": [
  {
   "cell_type": "markdown",
   "metadata": {},
   "source": [
    "### Import Data"
   ]
  },
  {
   "cell_type": "code",
   "execution_count": 3,
   "metadata": {},
   "outputs": [],
   "source": [
    "import pandas as pd"
   ]
  },
  {
   "cell_type": "code",
   "execution_count": 39,
   "metadata": {},
   "outputs": [
    {
     "data": {
      "text/html": [
       "<div>\n",
       "<style scoped>\n",
       "    .dataframe tbody tr th:only-of-type {\n",
       "        vertical-align: middle;\n",
       "    }\n",
       "\n",
       "    .dataframe tbody tr th {\n",
       "        vertical-align: top;\n",
       "    }\n",
       "\n",
       "    .dataframe thead th {\n",
       "        text-align: right;\n",
       "    }\n",
       "</style>\n",
       "<table border=\"1\" class=\"dataframe\">\n",
       "  <thead>\n",
       "    <tr style=\"text-align: right;\">\n",
       "      <th></th>\n",
       "      <th>Year</th>\n",
       "      <th>Month</th>\n",
       "      <th>Decimal_date</th>\n",
       "      <th>Monthly_average</th>\n",
       "      <th>deseasonalized</th>\n",
       "      <th>numofdays</th>\n",
       "      <th>stdofdays</th>\n",
       "      <th>site</th>\n",
       "    </tr>\n",
       "  </thead>\n",
       "  <tbody>\n",
       "    <tr>\n",
       "      <th>0</th>\n",
       "      <td>1958</td>\n",
       "      <td>3</td>\n",
       "      <td>1958.2027</td>\n",
       "      <td>315.70</td>\n",
       "      <td>314.43</td>\n",
       "      <td>-1</td>\n",
       "      <td>-9.99</td>\n",
       "      <td>MaunaLoa</td>\n",
       "    </tr>\n",
       "    <tr>\n",
       "      <th>1</th>\n",
       "      <td>1958</td>\n",
       "      <td>4</td>\n",
       "      <td>1958.2877</td>\n",
       "      <td>317.45</td>\n",
       "      <td>315.16</td>\n",
       "      <td>-1</td>\n",
       "      <td>-9.99</td>\n",
       "      <td>MaunaLoa</td>\n",
       "    </tr>\n",
       "    <tr>\n",
       "      <th>2</th>\n",
       "      <td>1958</td>\n",
       "      <td>5</td>\n",
       "      <td>1958.3699</td>\n",
       "      <td>317.51</td>\n",
       "      <td>314.71</td>\n",
       "      <td>-1</td>\n",
       "      <td>-9.99</td>\n",
       "      <td>MaunaLoa</td>\n",
       "    </tr>\n",
       "    <tr>\n",
       "      <th>3</th>\n",
       "      <td>1958</td>\n",
       "      <td>6</td>\n",
       "      <td>1958.4548</td>\n",
       "      <td>317.24</td>\n",
       "      <td>315.14</td>\n",
       "      <td>-1</td>\n",
       "      <td>-9.99</td>\n",
       "      <td>MaunaLoa</td>\n",
       "    </tr>\n",
       "    <tr>\n",
       "      <th>4</th>\n",
       "      <td>1958</td>\n",
       "      <td>7</td>\n",
       "      <td>1958.5370</td>\n",
       "      <td>315.86</td>\n",
       "      <td>315.18</td>\n",
       "      <td>-1</td>\n",
       "      <td>-9.99</td>\n",
       "      <td>MaunaLoa</td>\n",
       "    </tr>\n",
       "  </tbody>\n",
       "</table>\n",
       "</div>"
      ],
      "text/plain": [
       "   Year  Month  Decimal_date  Monthly_average  deseasonalized  numofdays  \\\n",
       "0  1958      3     1958.2027           315.70          314.43         -1   \n",
       "1  1958      4     1958.2877           317.45          315.16         -1   \n",
       "2  1958      5     1958.3699           317.51          314.71         -1   \n",
       "3  1958      6     1958.4548           317.24          315.14         -1   \n",
       "4  1958      7     1958.5370           315.86          315.18         -1   \n",
       "\n",
       "   stdofdays      site  \n",
       "0      -9.99  MaunaLoa  \n",
       "1      -9.99  MaunaLoa  \n",
       "2      -9.99  MaunaLoa  \n",
       "3      -9.99  MaunaLoa  \n",
       "4      -9.99  MaunaLoa  "
      ]
     },
     "execution_count": 39,
     "metadata": {},
     "output_type": "execute_result"
    }
   ],
   "source": [
    "df = pd.read_csv(\"MaunaLoaCO2_monthly_sitename.csv\")\n",
    "df.head()"
   ]
  },
  {
   "cell_type": "markdown",
   "metadata": {},
   "source": [
    "### Filter Data "
   ]
  },
  {
   "cell_type": "code",
   "execution_count": 42,
   "metadata": {},
   "outputs": [],
   "source": [
    "# Exclude data from the years 1958 and 2022 (1 pt).\n",
    "# Remove rows where \"numofdays\" or \"stdofdays\" contain invalid (negative) values (1 pt).\n",
    "df = df[df[\"Year\"] != 1958]\n",
    "df = df[df[\"Year\"] != 2022]\n",
    "df = df[df[\"numofdays\"] > 0]\n",
    "df = df[df[\"stdofdays\"] > 0]"
   ]
  },
  {
   "cell_type": "code",
   "execution_count": 44,
   "metadata": {},
   "outputs": [
    {
     "data": {
      "text/plain": [
       "1974"
      ]
     },
     "execution_count": 44,
     "metadata": {},
     "output_type": "execute_result"
    }
   ],
   "source": [
    "df[\"Year\"].min()"
   ]
  },
  {
   "cell_type": "code",
   "execution_count": 46,
   "metadata": {},
   "outputs": [
    {
     "data": {
      "text/plain": [
       "2021"
      ]
     },
     "execution_count": 46,
     "metadata": {},
     "output_type": "execute_result"
    }
   ],
   "source": [
    "df[\"Year\"].max()"
   ]
  },
  {
   "cell_type": "code",
   "execution_count": 48,
   "metadata": {},
   "outputs": [
    {
     "data": {
      "text/plain": [
       "0.15"
      ]
     },
     "execution_count": 48,
     "metadata": {},
     "output_type": "execute_result"
    }
   ],
   "source": [
    "df[\"stdofdays\"].min()"
   ]
  },
  {
   "cell_type": "code",
   "execution_count": 50,
   "metadata": {},
   "outputs": [
    {
     "data": {
      "text/plain": [
       "7"
      ]
     },
     "execution_count": 50,
     "metadata": {},
     "output_type": "execute_result"
    }
   ],
   "source": [
    "df[\"numofdays\"].min()"
   ]
  },
  {
   "cell_type": "markdown",
   "metadata": {},
   "source": [
    "### Compute Annual Statistics (3 pt)"
   ]
  },
  {
   "cell_type": "code",
   "execution_count": 55,
   "metadata": {},
   "outputs": [],
   "source": [
    "# Calculate the annual average CO₂ concentration from \"Monthly_average\" and store it in \"annual_average\" (1 pt).\n",
    "# Calculate the annual average deseasonalized CO₂ concentration from \"deseasonalized\" and store it in \"deseasonalized_annual_average\" (1 pt).\n",
    "# Compute the standard deviation of the 12-month \"Monthly_average\" values for each year and store it in \"std_of_months\" (1 pt).\n",
    "annual_df = df.groupby('Year').agg(\n",
    "    annual_average=('Monthly_average', 'mean'),\n",
    "    deseasonalized_annual_average=('deseasonalized', 'mean'),\n",
    "    std_of_months=('Monthly_average', 'std')\n",
    ").reset_index()"
   ]
  },
  {
   "cell_type": "markdown",
   "metadata": {},
   "source": [
    "### Apply Custom Function (2 pt)"
   ]
  },
  {
   "cell_type": "code",
   "execution_count": 60,
   "metadata": {},
   "outputs": [],
   "source": [
    "# Write a function to classify CO₂ levels into categories:\n",
    "# \"Low\" if CO₂ is below 350 ppm\n",
    "# \"Moderate\" if CO₂ is between 350 and 400 ppm\n",
    "# \"High\" if CO₂ is above 400 ppm\n",
    "def classify_co2_level(co2):\n",
    "    if co2 < 350:\n",
    "        return \"Low\"\n",
    "    elif 350 <= co2 <= 400:\n",
    "        return \"Moderate\"\n",
    "    else:\n",
    "        return \"High\"\n",
    "annual_df['CO2_Category'] = annual_df['annual_average'].apply(classify_co2_level)"
   ]
  },
  {
   "cell_type": "markdown",
   "metadata": {},
   "source": [
    "### Save and Submit"
   ]
  },
  {
   "cell_type": "code",
   "execution_count": 63,
   "metadata": {},
   "outputs": [
    {
     "data": {
      "text/html": [
       "<div>\n",
       "<style scoped>\n",
       "    .dataframe tbody tr th:only-of-type {\n",
       "        vertical-align: middle;\n",
       "    }\n",
       "\n",
       "    .dataframe tbody tr th {\n",
       "        vertical-align: top;\n",
       "    }\n",
       "\n",
       "    .dataframe thead th {\n",
       "        text-align: right;\n",
       "    }\n",
       "</style>\n",
       "<table border=\"1\" class=\"dataframe\">\n",
       "  <thead>\n",
       "    <tr style=\"text-align: right;\">\n",
       "      <th></th>\n",
       "      <th>Year</th>\n",
       "      <th>annual_average</th>\n",
       "      <th>deseasonalized_annual_average</th>\n",
       "      <th>std_of_months</th>\n",
       "      <th>CO2_Category</th>\n",
       "    </tr>\n",
       "  </thead>\n",
       "  <tbody>\n",
       "    <tr>\n",
       "      <th>0</th>\n",
       "      <td>1974</td>\n",
       "      <td>329.763750</td>\n",
       "      <td>330.346250</td>\n",
       "      <td>2.203789</td>\n",
       "      <td>Low</td>\n",
       "    </tr>\n",
       "    <tr>\n",
       "      <th>1</th>\n",
       "      <td>1975</td>\n",
       "      <td>331.160909</td>\n",
       "      <td>331.072727</td>\n",
       "      <td>1.943751</td>\n",
       "      <td>Low</td>\n",
       "    </tr>\n",
       "    <tr>\n",
       "      <th>2</th>\n",
       "      <td>1976</td>\n",
       "      <td>332.026667</td>\n",
       "      <td>332.028333</td>\n",
       "      <td>2.085610</td>\n",
       "      <td>Low</td>\n",
       "    </tr>\n",
       "    <tr>\n",
       "      <th>3</th>\n",
       "      <td>1977</td>\n",
       "      <td>333.843333</td>\n",
       "      <td>333.841667</td>\n",
       "      <td>1.931882</td>\n",
       "      <td>Low</td>\n",
       "    </tr>\n",
       "    <tr>\n",
       "      <th>4</th>\n",
       "      <td>1978</td>\n",
       "      <td>335.415000</td>\n",
       "      <td>335.413333</td>\n",
       "      <td>1.995014</td>\n",
       "      <td>Low</td>\n",
       "    </tr>\n",
       "  </tbody>\n",
       "</table>\n",
       "</div>"
      ],
      "text/plain": [
       "   Year  annual_average  deseasonalized_annual_average  std_of_months  \\\n",
       "0  1974      329.763750                     330.346250       2.203789   \n",
       "1  1975      331.160909                     331.072727       1.943751   \n",
       "2  1976      332.026667                     332.028333       2.085610   \n",
       "3  1977      333.843333                     333.841667       1.931882   \n",
       "4  1978      335.415000                     335.413333       1.995014   \n",
       "\n",
       "  CO2_Category  \n",
       "0          Low  \n",
       "1          Low  \n",
       "2          Low  \n",
       "3          Low  \n",
       "4          Low  "
      ]
     },
     "metadata": {},
     "output_type": "display_data"
    }
   ],
   "source": [
    "# Save final DataFrame to CSV\n",
    "output_filename = \"Weinstein_MaunaLoaCO2_annual_Hw3.csv\"\n",
    "annual_df.to_csv(output_filename, index=False)\n",
    "\n",
    "# Display final dataset to verify\n",
    "display(annual_df.head())"
   ]
  },
  {
   "cell_type": "code",
   "execution_count": null,
   "metadata": {},
   "outputs": [],
   "source": []
  }
 ],
 "metadata": {
  "kernelspec": {
   "display_name": "Python [conda env:base] *",
   "language": "python",
   "name": "conda-base-py"
  },
  "language_info": {
   "codemirror_mode": {
    "name": "ipython",
    "version": 3
   },
   "file_extension": ".py",
   "mimetype": "text/x-python",
   "name": "python",
   "nbconvert_exporter": "python",
   "pygments_lexer": "ipython3",
   "version": "3.12.7"
  }
 },
 "nbformat": 4,
 "nbformat_minor": 4
}
