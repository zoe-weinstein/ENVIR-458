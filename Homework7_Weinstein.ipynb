{
  "nbformat": 4,
  "nbformat_minor": 0,
  "metadata": {
    "colab": {
      "provenance": [],
      "authorship_tag": "ABX9TyNtJcDxWVKpKpy0IHatlOcQ",
      "include_colab_link": true
    },
    "kernelspec": {
      "name": "python3",
      "display_name": "Python 3"
    },
    "language_info": {
      "name": "python"
    }
  },
  "cells": [
    {
      "cell_type": "markdown",
      "metadata": {
        "id": "view-in-github",
        "colab_type": "text"
      },
      "source": [
        "<a href=\"https://colab.research.google.com/github/zoe-weinstein/ENVIR-458/blob/main/Homework7_Weinstein.ipynb\" target=\"_parent\"><img src=\"https://colab.research.google.com/assets/colab-badge.svg\" alt=\"Open In Colab\"/></a>"
      ]
    },
    {
      "cell_type": "markdown",
      "source": [
        "# Problem 1: Logistic Regression with ROC Analysis (4 pts)"
      ],
      "metadata": {
        "id": "otrPd-eOpzLR"
      }
    },
    {
      "cell_type": "markdown",
      "source": [
        "Dataset: Iris Dataset (Binary classification: Setosa vs. Non-Setosa)\n",
        "\n",
        "Task: Perform logistic regression classification with the following analysis:\n",
        "\n",
        "Load the Iris dataset from sklearn.datasets and convert it into a binary classification problem (Setosa vs. Non-Setosa).\n",
        "\n",
        "Split your dataset into training (70%) and testing (30%) sets.\n",
        "\n",
        "Train a logistic regression model.\n",
        "\n",
        "Generate a confusion matrix and calculate accuracy, precision, recall, and F1-score.\n",
        "\n",
        "Plot the ROC curve and compute the Area Under Curve (AUC)."
      ],
      "metadata": {
        "id": "VNIfPNjaS_IP"
      }
    },
    {
      "cell_type": "code",
      "source": [
        "import numpy as np\n",
        "import pandas as pd\n",
        "import matplotlib.pyplot as plt\n",
        "\n",
        "from sklearn.datasets import load_iris\n",
        "from sklearn.model_selection import train_test_split\n",
        "from sklearn.linear_model import LogisticRegression\n",
        "from sklearn.metrics import accuracy_score\n",
        "from sklearn import metrics\n",
        "from sklearn.metrics import roc_curve, roc_auc_score\n",
        "from sklearn.metrics import auc\n",
        "\n",
        "from sklearn.datasets import load_wine\n",
        "from sklearn.svm import SVC\n",
        "\n",
        "\n"
      ],
      "metadata": {
        "id": "WkjlHC8ad-4a"
      },
      "execution_count": 57,
      "outputs": []
    },
    {
      "cell_type": "markdown",
      "source": [
        "Load the Iris dataset from sklearn.datasets and convert it into a binary classification problem (Setosa vs. Non-Setosa)."
      ],
      "metadata": {
        "id": "ST3GT0GQeWbG"
      }
    },
    {
      "cell_type": "code",
      "source": [
        "# Load the data\n",
        "X, y = load_iris(return_X_y=True)"
      ],
      "metadata": {
        "id": "hBkxNhwqkLCX"
      },
      "execution_count": 58,
      "outputs": []
    },
    {
      "cell_type": "markdown",
      "source": [
        "Split your dataset into training (70%) and testing (30%) sets.\n",
        "\n",
        "Train a logistic regression model."
      ],
      "metadata": {
        "id": "-rayNYf1eY1Y"
      }
    },
    {
      "cell_type": "code",
      "source": [
        "# Setosa is 1, all others (Versicolor/Virginica) are 0\n",
        "y = (y == 0).astype(int)\n",
        "X_train, X_test, y_train, y_test = train_test_split(X,y,test_size=0.3,random_state=42)\n",
        "\n",
        "# instantiate the model\n",
        "logreg = LogisticRegression()\n",
        "\n",
        "# fit the model with data\n",
        "logreg.fit(X_train,y_train)\n",
        "\n",
        "y_pred = logreg.predict(X_test)"
      ],
      "metadata": {
        "id": "WKZLpqadn7A1"
      },
      "execution_count": 59,
      "outputs": []
    },
    {
      "cell_type": "markdown",
      "source": [
        "Generate a confusion matrix and calculate accuracy, precision, recall, and F1-score.\n"
      ],
      "metadata": {
        "id": "85-mKJzQev-e"
      }
    },
    {
      "cell_type": "markdown",
      "source": [
        "* Accuracy: Measures the proportion of correct predictions (both positive and negative) among all predictions. Calculated as (TP + TN) / (TP + TN + FP + FN).\n",
        "* Precision: Measures the proportion of correct positive predictions in all positive predictions made. It is calculated as TP / (TP + FP).\n",
        "* Recall (or Sensitivity): Measures the proportion of actual positives correctly identified. It is calculated as TP / (TP + FN).\n",
        "* F1 Score: A harmonic mean of precision and recall, providing a balance between them. It is calculated as 2 * (Precision * Recall) / (Precision + Recall)."
      ],
      "metadata": {
        "id": "EKFo3SCYhbvW"
      }
    },
    {
      "cell_type": "code",
      "source": [
        "# Confusion Matrix\n",
        "cnf_matrix = metrics.confusion_matrix(y_test, y_pred)\n",
        "print(f'Confusion Matrix: {cnf_matrix}')\n",
        "\n",
        "# Accuracy of Model\n",
        "accuracy = accuracy_score(y_test, y_pred)\n",
        "print(f'Accuracy: {accuracy}')\n",
        "\n",
        "# Precision\n",
        "precision = metrics.precision_score(y_test, y_pred, average='weighted')\n",
        "print(f'Precision: {precision}')\n",
        "\n",
        "# Recall\n",
        "recall = metrics.recall_score(y_test, y_pred, average='weighted')\n",
        "print(f'Recall: {recall}')\n",
        "\n",
        "# F_1\n",
        "F_1 = metrics.f1_score(y_test, y_pred, average='weighted')\n",
        "print(f'F1 Score: {F_1}')"
      ],
      "metadata": {
        "colab": {
          "base_uri": "https://localhost:8080/"
        },
        "id": "a5bfVmbad0vo",
        "outputId": "70921922-013e-4833-a5a5-4712dd9ea422"
      },
      "execution_count": 60,
      "outputs": [
        {
          "output_type": "stream",
          "name": "stdout",
          "text": [
            "Confusion Matrix: [[26  0]\n",
            " [ 0 19]]\n",
            "Accuracy: 1.0\n",
            "Precision: 1.0\n",
            "Recall: 1.0\n",
            "F1 Score: 1.0\n"
          ]
        }
      ]
    },
    {
      "cell_type": "markdown",
      "source": [
        "Plot the ROC curve and compute the Area Under Curve (AUC)."
      ],
      "metadata": {
        "id": "3XSyKyoHhky4"
      }
    },
    {
      "cell_type": "code",
      "source": [
        "\n",
        "# Predict probabilities\n",
        "y_proba = logreg.predict_proba(X_test)[:, 1]\n",
        "\n",
        "# Compute ROC curve and AUC\n",
        "fpr, tpr, thresholds = roc_curve(y_test, y_proba)\n",
        "auc_score = roc_auc_score(y_test, y_proba)\n",
        "\n",
        "print(\"AUC score: \", auc_score)\n",
        "# Plot ROC curve\n",
        "fig, ax = plt.subplots(1, 2, figsize=(16, 6))\n",
        "\n",
        "# Scatter plot of data\n",
        "ax[0].scatter(X_test[:, 0], X_test[:, 1], c=y_test, cmap='coolwarm', edgecolors='k')\n",
        "ax[0].set_title('Test Data Distribution')\n",
        "\n",
        "# ROC Curve\n",
        "ax[1].plot(fpr, tpr, color='blue', label=f'ROC curve (AUC = {auc_score:.2f})')\n",
        "ax[1].plot([0, 1], [0, 1], linestyle='--', color='gray')\n",
        "ax[1].set_xlabel('False Positive Rate')\n",
        "ax[1].set_ylabel('True Positive Rate')\n",
        "ax[1].set_title('ROC Curve')\n",
        "ax[1].legend()\n",
        "\n",
        "plt.show()"
      ],
      "metadata": {
        "colab": {
          "base_uri": "https://localhost:8080/",
          "height": 582
        },
        "id": "YJ7f21lemV1x",
        "outputId": "d3a252ca-be7c-47b4-bd03-df4b36f4607a"
      },
      "execution_count": 61,
      "outputs": [
        {
          "output_type": "stream",
          "name": "stdout",
          "text": [
            "AUC score:  1.0\n"
          ]
        },
        {
          "output_type": "display_data",
          "data": {
            "text/plain": [
              "<Figure size 1600x600 with 2 Axes>"
            ],
            "image/png": "[encoded data removed]"
          },
          "metadata": {}
        }
      ]
    },
    {
      "cell_type": "markdown",
      "source": [
        "Becuase the AUC Score is a 1, this means it is a perfect classifier. As demonstrated by the False Positive and True Positive rate, there are no false positives and all true positives. This model having a perfect accuracy signals that it may be overfit, the model may have memorized the training data rather than generalizing. With the precision, Recall, and F1 Score = 1.0, suggest that the test data might be too similar to the training data, or the dataset is too small."
      ],
      "metadata": {
        "id": "nsIUvmlYoqxJ"
      }
    },
    {
      "cell_type": "markdown",
      "source": [
        "# Problem 2: SVM with Kernel Selection (6 pts)"
      ],
      "metadata": {
        "id": "_KfuZGCKpwnt"
      }
    },
    {
      "cell_type": "markdown",
      "source": [
        "Load the Wine dataset from sklearn.datasets."
      ],
      "metadata": {
        "id": "k0yLyL9CNxeq"
      }
    },
    {
      "cell_type": "code",
      "source": [
        "X, y = load_wine(return_X_y=True)\n",
        "X"
      ],
      "metadata": {
        "id": "ow5hCSJwoe2C",
        "colab": {
          "base_uri": "https://localhost:8080/"
        },
        "outputId": "b4f49c62-bf6f-411d-d6c6-7c1236a00355"
      },
      "execution_count": 62,
      "outputs": [
        {
          "output_type": "execute_result",
          "data": {
            "text/plain": [
              "array([[1.423e+01, 1.710e+00, 2.430e+00, ..., 1.040e+00, 3.920e+00,\n",
              "        1.065e+03],\n",
              "       [1.320e+01, 1.780e+00, 2.140e+00, ..., 1.050e+00, 3.400e+00,\n",
              "        1.050e+03],\n",
              "       [1.316e+01, 2.360e+00, 2.670e+00, ..., 1.030e+00, 3.170e+00,\n",
              "        1.185e+03],\n",
              "       ...,\n",
              "       [1.327e+01, 4.280e+00, 2.260e+00, ..., 5.900e-01, 1.560e+00,\n",
              "        8.350e+02],\n",
              "       [1.317e+01, 2.590e+00, 2.370e+00, ..., 6.000e-01, 1.620e+00,\n",
              "        8.400e+02],\n",
              "       [1.413e+01, 4.100e+00, 2.740e+00, ..., 6.100e-01, 1.600e+00,\n",
              "        5.600e+02]])"
            ]
          },
          "metadata": {},
          "execution_count": 62
        }
      ]
    },
    {
      "cell_type": "markdown",
      "source": [
        "Split the dataset into training (75%) and testing (25%) sets."
      ],
      "metadata": {
        "id": "2e4EBkG0OG_V"
      }
    },
    {
      "cell_type": "code",
      "source": [
        "X_train, X_test, y_train, y_test = train_test_split(X,y,test_size=0.25,random_state=42)"
      ],
      "metadata": {
        "id": "8HiyA6koS784"
      },
      "execution_count": 63,
      "outputs": []
    },
    {
      "cell_type": "markdown",
      "source": [
        "Train three SVM models, each using a different kernel (linear, RBF, and polynomial).\n",
        "\n",
        "Evaluate the final performance of each model using accuracy, precision, recall, and F1-score."
      ],
      "metadata": {
        "id": "i3YebGLQOYr1"
      }
    },
    {
      "cell_type": "markdown",
      "source": [
        "### Linear"
      ],
      "metadata": {
        "id": "tVuykqB0TbJn"
      }
    },
    {
      "cell_type": "code",
      "source": [
        "# Train SVM classifier\n",
        "model = SVC(kernel='linear', C=10, probability=True)\n",
        "model.fit(X_train, y_train)\n",
        "\n",
        "# Predict probabilities\n",
        "y_proba = model.predict_proba(X_test)[:, 1]"
      ],
      "metadata": {
        "id": "I9QHR9SQRcrX"
      },
      "execution_count": 71,
      "outputs": []
    },
    {
      "cell_type": "code",
      "source": [
        "fpr, tpr, thresholds = roc_curve(y_test, y_proba)\n",
        "auc_score = roc_auc_score(y_test, y_proba)"
      ],
      "metadata": {
        "colab": {
          "base_uri": "https://localhost:8080/",
          "height": 311
        },
        "id": "Jdvym2rFSZiV",
        "outputId": "17d8e81c-2238-44f1-b515-b1c25379fada"
      },
      "execution_count": 75,
      "outputs": [
        {
          "output_type": "error",
          "ename": "ValueError",
          "evalue": "multiclass format is not supported",
          "traceback": [
            "\u001b[0;31m---------------------------------------------------------------------------\u001b[0m",
            "\u001b[0;31mValueError\u001b[0m                                Traceback (most recent call last)",
            "\u001b[0;32m<ipython-input-75-428164a6a541>\u001b[0m in \u001b[0;36m<cell line: 0>\u001b[0;34m()\u001b[0m\n\u001b[0;32m----> 1\u001b[0;31m \u001b[0mfpr\u001b[0m\u001b[0;34m,\u001b[0m \u001b[0mtpr\u001b[0m\u001b[0;34m,\u001b[0m \u001b[0mthresholds\u001b[0m \u001b[0;34m=\u001b[0m \u001b[0mroc_curve\u001b[0m\u001b[0;34m(\u001b[0m\u001b[0my_test\u001b[0m\u001b[0;34m,\u001b[0m \u001b[0my_proba\u001b[0m\u001b[0;34m)\u001b[0m\u001b[0;34m\u001b[0m\u001b[0;34m\u001b[0m\u001b[0m\n\u001b[0m\u001b[1;32m      2\u001b[0m \u001b[0mauc_score\u001b[0m \u001b[0;34m=\u001b[0m \u001b[0mroc_auc_score\u001b[0m\u001b[0;34m(\u001b[0m\u001b[0my_test\u001b[0m\u001b[0;34m,\u001b[0m \u001b[0my_proba\u001b[0m\u001b[0;34m)\u001b[0m\u001b[0;34m\u001b[0m\u001b[0;34m\u001b[0m\u001b[0m\n",
            "\u001b[0;32m/usr/local/lib/python3.11/dist-packages/sklearn/utils/_param_validation.py\u001b[0m in \u001b[0;36mwrapper\u001b[0;34m(*args, **kwargs)\u001b[0m\n\u001b[1;32m    214\u001b[0m                     )\n\u001b[1;32m    215\u001b[0m                 ):\n\u001b[0;32m--> 216\u001b[0;31m                     \u001b[0;32mreturn\u001b[0m \u001b[0mfunc\u001b[0m\u001b[0;34m(\u001b[0m\u001b[0;34m*\u001b[0m\u001b[0margs\u001b[0m\u001b[0;34m,\u001b[0m \u001b[0;34m**\u001b[0m\u001b[0mkwargs\u001b[0m\u001b[0;34m)\u001b[0m\u001b[0;34m\u001b[0m\u001b[0;34m\u001b[0m\u001b[0m\n\u001b[0m\u001b[1;32m    217\u001b[0m             \u001b[0;32mexcept\u001b[0m \u001b[0mInvalidParameterError\u001b[0m \u001b[0;32mas\u001b[0m \u001b[0me\u001b[0m\u001b[0;34m:\u001b[0m\u001b[0;34m\u001b[0m\u001b[0;34m\u001b[0m\u001b[0m\n\u001b[1;32m    218\u001b[0m                 \u001b[0;31m# When the function is just a wrapper around an estimator, we allow\u001b[0m\u001b[0;34m\u001b[0m\u001b[0;34m\u001b[0m\u001b[0m\n",
            "\u001b[0;32m/usr/local/lib/python3.11/dist-packages/sklearn/metrics/_ranking.py\u001b[0m in \u001b[0;36mroc_curve\u001b[0;34m(y_true, y_score, pos_label, sample_weight, drop_intermediate)\u001b[0m\n\u001b[1;32m   1148\u001b[0m     \u001b[0marray\u001b[0m\u001b[0;34m(\u001b[0m\u001b[0;34m[\u001b[0m \u001b[0minf\u001b[0m\u001b[0;34m,\u001b[0m \u001b[0;36m0.8\u001b[0m \u001b[0;34m,\u001b[0m \u001b[0;36m0.4\u001b[0m \u001b[0;34m,\u001b[0m \u001b[0;36m0.35\u001b[0m\u001b[0;34m,\u001b[0m \u001b[0;36m0.1\u001b[0m \u001b[0;34m]\u001b[0m\u001b[0;34m)\u001b[0m\u001b[0;34m\u001b[0m\u001b[0;34m\u001b[0m\u001b[0m\n\u001b[1;32m   1149\u001b[0m     \"\"\"\n\u001b[0;32m-> 1150\u001b[0;31m     fps, tps, thresholds = _binary_clf_curve(\n\u001b[0m\u001b[1;32m   1151\u001b[0m         \u001b[0my_true\u001b[0m\u001b[0;34m,\u001b[0m \u001b[0my_score\u001b[0m\u001b[0;34m,\u001b[0m \u001b[0mpos_label\u001b[0m\u001b[0;34m=\u001b[0m\u001b[0mpos_label\u001b[0m\u001b[0;34m,\u001b[0m \u001b[0msample_weight\u001b[0m\u001b[0;34m=\u001b[0m\u001b[0msample_weight\u001b[0m\u001b[0;34m\u001b[0m\u001b[0;34m\u001b[0m\u001b[0m\n\u001b[1;32m   1152\u001b[0m     )\n",
            "\u001b[0;32m/usr/local/lib/python3.11/dist-packages/sklearn/metrics/_ranking.py\u001b[0m in \u001b[0;36m_binary_clf_curve\u001b[0;34m(y_true, y_score, pos_label, sample_weight)\u001b[0m\n\u001b[1;32m    816\u001b[0m     \u001b[0my_type\u001b[0m \u001b[0;34m=\u001b[0m \u001b[0mtype_of_target\u001b[0m\u001b[0;34m(\u001b[0m\u001b[0my_true\u001b[0m\u001b[0;34m,\u001b[0m \u001b[0minput_name\u001b[0m\u001b[0;34m=\u001b[0m\u001b[0;34m\"y_true\"\u001b[0m\u001b[0;34m)\u001b[0m\u001b[0;34m\u001b[0m\u001b[0;34m\u001b[0m\u001b[0m\n\u001b[1;32m    817\u001b[0m     \u001b[0;32mif\u001b[0m \u001b[0;32mnot\u001b[0m \u001b[0;34m(\u001b[0m\u001b[0my_type\u001b[0m \u001b[0;34m==\u001b[0m \u001b[0;34m\"binary\"\u001b[0m \u001b[0;32mor\u001b[0m \u001b[0;34m(\u001b[0m\u001b[0my_type\u001b[0m \u001b[0;34m==\u001b[0m \u001b[0;34m\"multiclass\"\u001b[0m \u001b[0;32mand\u001b[0m \u001b[0mpos_label\u001b[0m \u001b[0;32mis\u001b[0m \u001b[0;32mnot\u001b[0m \u001b[0;32mNone\u001b[0m\u001b[0;34m)\u001b[0m\u001b[0;34m)\u001b[0m\u001b[0;34m:\u001b[0m\u001b[0;34m\u001b[0m\u001b[0;34m\u001b[0m\u001b[0m\n\u001b[0;32m--> 818\u001b[0;31m         \u001b[0;32mraise\u001b[0m \u001b[0mValueError\u001b[0m\u001b[0;34m(\u001b[0m\u001b[0;34m\"{0} format is not supported\"\u001b[0m\u001b[0;34m.\u001b[0m\u001b[0mformat\u001b[0m\u001b[0;34m(\u001b[0m\u001b[0my_type\u001b[0m\u001b[0;34m)\u001b[0m\u001b[0;34m)\u001b[0m\u001b[0;34m\u001b[0m\u001b[0;34m\u001b[0m\u001b[0m\n\u001b[0m\u001b[1;32m    819\u001b[0m \u001b[0;34m\u001b[0m\u001b[0m\n\u001b[1;32m    820\u001b[0m     \u001b[0mcheck_consistent_length\u001b[0m\u001b[0;34m(\u001b[0m\u001b[0my_true\u001b[0m\u001b[0;34m,\u001b[0m \u001b[0my_score\u001b[0m\u001b[0;34m,\u001b[0m \u001b[0msample_weight\u001b[0m\u001b[0;34m)\u001b[0m\u001b[0;34m\u001b[0m\u001b[0;34m\u001b[0m\u001b[0m\n",
            "\u001b[0;31mValueError\u001b[0m: multiclass format is not supported"
          ]
        }
      ]
    },
    {
      "cell_type": "code",
      "source": [
        "# Accuracy of Model\n",
        "accuracy = accuracy_score(y_test, y_pred)\n",
        "print(f'Accuracy: {accuracy}')\n",
        "\n",
        "# Precision\n",
        "precision = metrics.precision_score(y_test, y_pred, average='weighted')\n",
        "print(f'Precision: {precision}')\n",
        "\n",
        "# Recall\n",
        "recall = metrics.recall_score(y_test, y_pred, average='weighted')\n",
        "print(f'Recall: {recall}')\n",
        "\n",
        "# F_1\n",
        "F_1 = metrics.f1_score(y_test, y_pred, average='weighted')\n",
        "print(f'F1 Score: {F_1}')"
      ],
      "metadata": {
        "colab": {
          "base_uri": "https://localhost:8080/"
        },
        "id": "gHJxii4JSn3A",
        "outputId": "aba60dee-57bd-4e9b-9255-20952bafc342"
      },
      "execution_count": 67,
      "outputs": [
        {
          "output_type": "stream",
          "name": "stdout",
          "text": [
            "Accuracy: 1.0\n",
            "Precision: 1.0\n",
            "Recall: 1.0\n",
            "F1 Score: 1.0\n"
          ]
        }
      ]
    },
    {
      "cell_type": "markdown",
      "source": [
        "### RBF"
      ],
      "metadata": {
        "id": "kp8eToIcTszL"
      }
    },
    {
      "cell_type": "code",
      "source": [
        "# Train SVM classifier\n",
        "model = SVC(kernel='rbf', C=10, probability=True)\n",
        "model.fit(X_train, y_train)\n",
        "\n",
        "# Predict probabilities\n",
        "y_proba = model.predict_proba(X_test)[:, 1]\n",
        "\n",
        "y_pred = model.predict(X_test)"
      ],
      "metadata": {
        "id": "SykfaeILRRuG"
      },
      "execution_count": null,
      "outputs": []
    },
    {
      "cell_type": "code",
      "source": [
        "# Compute ROC curve and AUC\n",
        "fpr, tpr, thresholds = roc_curve(y_test, y_proba)\n",
        "auc_score = roc_auc_score(y_test, y_proba)"
      ],
      "metadata": {
        "id": "qEF1dXSRT6vb"
      },
      "execution_count": null,
      "outputs": []
    },
    {
      "cell_type": "code",
      "source": [
        "# Confusion Matrix\n",
        "cnf_matrix = metrics.confusion_matrix(y_test, y_pred)\n",
        "print(f'Confusion Matrix: {cnf_matrix}')\n",
        "\n",
        "# Accuracy of Model\n",
        "accuracy = accuracy_score(y_test, y_pred)\n",
        "print(f'Accuracy: {accuracy}')\n",
        "\n",
        "# Precision\n",
        "precision = metrics.precision_score(y_test, y_pred, average='weighted')\n",
        "print(f'Precision: {precision}')\n",
        "\n",
        "# Recall\n",
        "recall = metrics.recall_score(y_test, y_pred, average='weighted')\n",
        "print(f'Recall: {recall}')\n",
        "\n",
        "# F_1\n",
        "F_1 = metrics.f1_score(y_test, y_pred, average='weighted')\n",
        "print(f'F1 Score: {F_1}')"
      ],
      "metadata": {
        "id": "Gm3zwIYlT5NS"
      },
      "execution_count": null,
      "outputs": []
    },
    {
      "cell_type": "code",
      "source": [
        "# Train SVM classifier\n",
        "model = SVC(kernel='poly', C=10, probability=True)\n",
        "model.fit(X_train, y_train)\n",
        "\n",
        "# Predict probabilities\n",
        "y_proba = model.predict_proba(X_test)[:, 1]\n",
        "\n",
        "y_pred = model.predict(X_test)"
      ],
      "metadata": {
        "id": "FcaOqrw1RS4O"
      },
      "execution_count": null,
      "outputs": []
    },
    {
      "cell_type": "code",
      "source": [
        "# Compute ROC curve and AUC\n",
        "fpr, tpr, thresholds = roc_curve(y_test, y_proba)\n",
        "auc_score = roc_auc_score(y_test, y_proba)"
      ],
      "metadata": {
        "id": "fQLzoRCJUE73"
      },
      "execution_count": null,
      "outputs": []
    },
    {
      "cell_type": "code",
      "source": [
        "# Confusion Matrix\n",
        "cnf_matrix = metrics.confusion_matrix(y_test, y_pred)\n",
        "print(f'Confusion Matrix: {cnf_matrix}')\n",
        "\n",
        "# Accuracy of Model\n",
        "accuracy = accuracy_score(y_test, y_pred)\n",
        "print(f'Accuracy: {accuracy}')\n",
        "\n",
        "# Precision\n",
        "precision = metrics.precision_score(y_test, y_pred, average='weighted')\n",
        "print(f'Precision: {precision}')\n",
        "\n",
        "# Recall\n",
        "recall = metrics.recall_score(y_test, y_pred, average='weighted')\n",
        "print(f'Recall: {recall}')\n",
        "\n",
        "# F_1\n",
        "F_1 = metrics.f1_score(y_test, y_pred, average='weighted')\n",
        "print(f'F1 Score: {F_1}')"
      ],
      "metadata": {
        "id": "vxOv6TrDUGR1"
      },
      "execution_count": null,
      "outputs": []
    },
    {
      "cell_type": "markdown",
      "source": [
        "Similar to in problem 1, the AUC Score is a 1, this means it is a perfect classifier. The False Positive is 0 and True Positive rate is 1. This means it has perfect accuracy. With the precision, Recall, and F1 Score = 1.0, suggest that the test data might be too similar to the training data, or the dataset is too small."
      ],
      "metadata": {
        "id": "jC2lHzfOUzsX"
      }
    },
    {
      "cell_type": "code",
      "source": [],
      "metadata": {
        "id": "p-uCP_RdUG7i"
      },
      "execution_count": null,
      "outputs": []
    }
  ]
}